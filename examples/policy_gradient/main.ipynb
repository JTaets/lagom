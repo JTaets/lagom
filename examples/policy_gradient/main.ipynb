{
 "cells": [
  {
   "cell_type": "code",
   "execution_count": 109,
   "metadata": {},
   "outputs": [
    {
     "name": "stdout",
     "output_type": "stream",
     "text": [
      "[array([-0.04002427,  0.00464987, -0.01704236, -0.03673052]),\n",
      " array([ 0.00854682,  0.00830137, -0.03052506,  0.03439879]),\n",
      " array([0.00025361, 0.02915667, 0.01103413, 0.04977449])]\n",
      "[array([-0.03993127, -0.1902236 , -0.01777697,  0.25052702]),\n",
      " array([ 0.00871284, -0.18636984, -0.02983709,  0.31729661]),\n",
      " array([ 0.00083675, -0.16612175,  0.01202961,  0.34591825])]\n"
     ]
    }
   ],
   "source": [
    "from pprint import pprint\n",
    "\n",
    "env = make_vec_env(SerialVecEnv, make_gym_env, 'CartPole-v1', 3, 0)\n",
    "pprint(env.reset())\n",
    "obs, _, _, _ = env.step([0]*3)\n",
    "pprint(obs)"
   ]
  },
  {
   "cell_type": "code",
   "execution_count": 100,
   "metadata": {},
   "outputs": [],
   "source": []
  },
  {
   "cell_type": "code",
   "execution_count": null,
   "metadata": {},
   "outputs": [],
   "source": []
  },
  {
   "cell_type": "code",
   "execution_count": 18,
   "metadata": {},
   "outputs": [],
   "source": []
  },
  {
   "cell_type": "code",
   "execution_count": 2,
   "metadata": {},
   "outputs": [],
   "source": [
    "from lagom.runner import EpisodeRunner\n",
    "\n",
    "runner = EpisodeRunner(None, agent, env)\n",
    "D3 = runner(20)"
   ]
  },
  {
   "cell_type": "code",
   "execution_count": 3,
   "metadata": {},
   "outputs": [
    {
     "data": {
      "text/plain": [
       "[[{}, {}, {}],\n",
       " [{}, {}, {}],\n",
       " [{}, {}, {}],\n",
       " [{}, {}, {}],\n",
       " [{}, {}, {}],\n",
       " [{}, {}, {}],\n",
       " [{}, {}, {}],\n",
       " [{}, {}, {}],\n",
       " [{},\n",
       "  {},\n",
       "  {'terminal_observation': array([-0.13526632, -1.73240121,  0.23814164,  2.86778251])}],\n",
       " [{'terminal_observation': array([-0.21473797, -1.94980312,  0.24098487,  3.02921844])},\n",
       "  {'terminal_observation': array([-0.16530937, -1.94506998,  0.23886392,  3.07585696])},\n",
       "  {}]]"
      ]
     },
     "execution_count": 3,
     "metadata": {},
     "output_type": "execute_result"
    }
   ],
   "source": [
    "D3.infos"
   ]
  },
  {
   "cell_type": "code",
   "execution_count": 1,
   "metadata": {},
   "outputs": [
    {
     "name": "stderr",
     "output_type": "stream",
     "text": [
      "/home/zuo/Code/lagom/lagom/vis/__init__.py:10: UserWarning: ImageViewer failed to import due to pyglet. \n",
      "  warnings.warn('ImageViewer failed to import due to pyglet. ')\n",
      "/home/zuo/Code/lagom/lagom/envs/vec_env/vec_env.py:12: UserWarning: ImageViewer failed to import due to pyglet. \n",
      "  warnings.warn('ImageViewer failed to import due to pyglet. ')\n"
     ]
    }
   ],
   "source": [
    "from lagom.envs import make_vec_env, make_gym_env\n",
    "from lagom.envs import EnvSpec\n",
    "from lagom.envs.vec_env import SerialVecEnv\n",
    "from lagom.agents import StickyAgent\n",
    "\n",
    "from lagom.runner import RollingRunner, SegmentRunner\n",
    "\n",
    "env = make_vec_env(SerialVecEnv, make_gym_env, 'CartPole-v1', 3, 0)\n",
    "env_spec = EnvSpec(env)\n",
    "\n",
    "agent = StickyAgent(None, env_spec, 0)"
   ]
  },
  {
   "cell_type": "markdown",
   "metadata": {},
   "source": [
    "# Check if metrics are identical, TD, GAE"
   ]
  },
  {
   "cell_type": "code",
   "execution_count": 95,
   "metadata": {},
   "outputs": [],
   "source": [
    "from lagom.envs import make_vec_env, make_gym_env\n",
    "from lagom.envs import EnvSpec\n",
    "from lagom.envs.vec_env import SerialVecEnv\n",
    "from lagom.agents import RandomAgent\n",
    "\n",
    "from lagom.runner import RollingRunner, SegmentRunner\n",
    "\n",
    "env = make_vec_env(SerialVecEnv, make_gym_env, 'HalfCheetah-v2', 1000, 0)\n",
    "env_spec = EnvSpec(env)\n",
    "\n",
    "agent = RandomAgent(None, env_spec)\n",
    "\n",
    "runner1 = RollingRunner(None, agent, env)\n",
    "runner2 = SegmentRunner(None, agent, env)\n"
   ]
  },
  {
   "cell_type": "code",
   "execution_count": null,
   "metadata": {},
   "outputs": [],
   "source": []
  },
  {
   "cell_type": "code",
   "execution_count": 92,
   "metadata": {},
   "outputs": [],
   "source": []
  }
 ],
 "metadata": {
  "kernelspec": {
   "display_name": "Python 3",
   "language": "python",
   "name": "python3"
  },
  "language_info": {
   "codemirror_mode": {
    "name": "ipython",
    "version": 3
   },
   "file_extension": ".py",
   "mimetype": "text/x-python",
   "name": "python",
   "nbconvert_exporter": "python",
   "pygments_lexer": "ipython3",
   "version": "3.7.1"
  }
 },
 "nbformat": 4,
 "nbformat_minor": 2
}
